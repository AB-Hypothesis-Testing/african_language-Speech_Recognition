{
 "cells": [
  {
   "cell_type": "code",
   "execution_count": 27,
   "outputs": [],
   "source": [
    "import os\n",
    "import sys\n",
    "sys.path.append(os.path.abspath(os.path.join('../scripts')))\n",
    "# sys.path.append(os.path.abspath(os.path.join('./scripts')))\n",
    "import pandas as pd\n",
    "import IPython.display as ipd\n",
    "import matplotlib.pyplot as plt\n",
    "import numpy as np\n",
    "from scipy.io import wavfile #for audio processing\n",
    "import os\n",
    "import pickle\n",
    "import pandas as pd\n",
    "from collections import Counter\n",
    "import librosa\n",
    "import tensorflow as tf\n",
    "from tensorflow.keras.models import Model, Sequential\n",
    "from tensorflow.keras.layers import *\n",
    "from tensorflow.keras.callbacks import Callback, ModelCheckpoint\n",
    "from tensorflow.keras.preprocessing.sequence import pad_sequences\n",
    "from tensorflow.keras.optimizers import SGD, Adam, RMSprop\n",
    "from tensorflow.keras import backend as K\n",
    "from jiwer import wer\n",
    "import random\n",
    "import mlflow\n",
    "import warnings\n",
    "warnings.filterwarnings('ignore')\n",
    "import helper\n",
    "from data_generator import DataGenerator\n",
    "from tokenizer import Tokenizer\n",
    "from logspectrogram import LogMelSpectrogram\n",
    "from ctc_loss import CTC_loss\n",
    "from model2 import simple_rnn_model, CNN_net, BidirectionalRNN2, cnn_rnn_model, preprocessin_model"
   ],
   "metadata": {
    "collapsed": false,
    "pycharm": {
     "name": "#%%\n"
    }
   }
  },
  {
   "cell_type": "code",
   "execution_count": 10,
   "outputs": [],
   "source": [
    "frame_step = 256\n",
    "ctc = CTC_loss(frame_step)"
   ],
   "metadata": {
    "collapsed": false,
    "pycharm": {
     "name": "#%%\n"
    }
   }
  },
  {
   "cell_type": "code",
   "execution_count": 11,
   "outputs": [],
   "source": [
    "### Model trainer function"
   ],
   "metadata": {
    "collapsed": false,
    "pycharm": {
     "name": "#%%\n"
    }
   }
  },
  {
   "cell_type": "code",
   "execution_count": 13,
   "outputs": [],
   "source": [
    "def train(model_builder,\n",
    "          data_gen,\n",
    "          batch_size = 32,\n",
    "          epochs=20,\n",
    "          verbose=1,\n",
    "          save_path=\"../models/model.h5\",\n",
    "          optimizer=SGD(learning_rate=0.01, decay=1e-6, momentum=0.9, nesterov=True, clipnorm=5),\n",
    "          ):\n",
    "\n",
    "    model = ctc.add_ctc_loss(model_builder)\n",
    "\n",
    "    checkpointer = ModelCheckpoint(filepath=save_path, verbose=0)\n",
    "    model.compile(loss={'ctc': lambda y_true, y_pred: y_pred}, optimizer=optimizer)\n",
    "    print(model.summary())\n",
    "\n",
    "\n",
    "    hist = model.fit_generator(generator=data_gen,\n",
    "                               callbacks=[checkpointer],\n",
    "\n",
    "                               epochs=epochs,\n",
    "                               verbose=verbose,\n",
    "                               use_multiprocessing=False)\n",
    "    return model"
   ],
   "metadata": {
    "collapsed": false,
    "pycharm": {
     "name": "#%%\n"
    }
   }
  },
  {
   "cell_type": "code",
   "execution_count": 16,
   "outputs": [
    {
     "name": "stdout",
     "output_type": "stream",
     "text": [
      "file read as csv\n"
     ]
    }
   ],
   "source": [
    "translation_obj = helper.read_obj(\"../data/translation_dict.pkl\")\n",
    "audio_obj = helper.read_obj(\"../data/audio_dict.pkl\")\n",
    "meta_data = helper.read_csv(\"../data/meta_data.csv\")"
   ],
   "metadata": {
    "collapsed": false,
    "pycharm": {
     "name": "#%%\n"
    }
   }
  },
  {
   "cell_type": "code",
   "execution_count": 17,
   "outputs": [
    {
     "data": {
      "text/plain": "                                            translation            label  \\\n3399                                    እኔ ጥሩ ኢትዮጵያዊ ነኝ  tr_7742_tr78043   \n3922                                   ጺ ዮን ማሪያም ሄጄ ነበር  tr_8210_tr82091   \n1142                                      ሼራተን አዲስ ተመረቀ  tr_5302_tr54003   \n3097                                   አሸናፊ ፈጣን ተጨዋች ነው  tr_1541_tr16042   \n1244                                     ዛሬ አዲስ ክስተት አለ  tr_6251_tr63052   \n...                                                 ...              ...   \n1785  የ ትምህርት ደረጃቸው ንና የ አገልግሎት ሁኔታዎች ን ስን መረምር የሚደር...  tr_2365_tr24066   \n555   ለ ምሳሌ ዲዮ ን ደብሊን ን ፓትሪክ ኩላይቨርት ን ን ሮናልድ ዴ ቦዬርን ...    tr_85_tr01085   \n4255  ሁሴን አይዲድ እንደ ገለጹት ኢትዮጵያ ሁኔታዎች ከ ተመቻቹ ላት ሶማሊያ ን...    tr_16_tr01016   \n4524  ባጭሩ ድርጅታችን እየ በ ከተ ስርአታችን ና አመራ ራችን ባህርይ ውን እየ...  tr_6163_tr62064   \n3130  ማጋነን ባይሆን ብኝ ለ ፕሮፌሰሩ የተሰጠ ውን አክብሮት ሳስበው የ አሜሪካ...  tr_6166_tr62067   \n\n      channel  sample_rate  duration  \n3399        1         8000     1.792  \n3922        1         8000     2.048  \n1142        1         8000     2.048  \n3097        1         8000     2.048  \n1244        1         8000     2.176  \n...       ...          ...       ...  \n1785        1         8000    19.968  \n555         1         8000    20.480  \n4255        1         8000    20.736  \n4524        1         8000    22.528  \n3130        1         8000    22.912  \n\n[5000 rows x 5 columns]",
      "text/html": "<div>\n<style scoped>\n    .dataframe tbody tr th:only-of-type {\n        vertical-align: middle;\n    }\n\n    .dataframe tbody tr th {\n        vertical-align: top;\n    }\n\n    .dataframe thead th {\n        text-align: right;\n    }\n</style>\n<table border=\"1\" class=\"dataframe\">\n  <thead>\n    <tr style=\"text-align: right;\">\n      <th></th>\n      <th>translation</th>\n      <th>label</th>\n      <th>channel</th>\n      <th>sample_rate</th>\n      <th>duration</th>\n    </tr>\n  </thead>\n  <tbody>\n    <tr>\n      <th>3399</th>\n      <td>እኔ ጥሩ ኢትዮጵያዊ ነኝ</td>\n      <td>tr_7742_tr78043</td>\n      <td>1</td>\n      <td>8000</td>\n      <td>1.792</td>\n    </tr>\n    <tr>\n      <th>3922</th>\n      <td>ጺ ዮን ማሪያም ሄጄ ነበር</td>\n      <td>tr_8210_tr82091</td>\n      <td>1</td>\n      <td>8000</td>\n      <td>2.048</td>\n    </tr>\n    <tr>\n      <th>1142</th>\n      <td>ሼራተን አዲስ ተመረቀ</td>\n      <td>tr_5302_tr54003</td>\n      <td>1</td>\n      <td>8000</td>\n      <td>2.048</td>\n    </tr>\n    <tr>\n      <th>3097</th>\n      <td>አሸናፊ ፈጣን ተጨዋች ነው</td>\n      <td>tr_1541_tr16042</td>\n      <td>1</td>\n      <td>8000</td>\n      <td>2.048</td>\n    </tr>\n    <tr>\n      <th>1244</th>\n      <td>ዛሬ አዲስ ክስተት አለ</td>\n      <td>tr_6251_tr63052</td>\n      <td>1</td>\n      <td>8000</td>\n      <td>2.176</td>\n    </tr>\n    <tr>\n      <th>...</th>\n      <td>...</td>\n      <td>...</td>\n      <td>...</td>\n      <td>...</td>\n      <td>...</td>\n    </tr>\n    <tr>\n      <th>1785</th>\n      <td>የ ትምህርት ደረጃቸው ንና የ አገልግሎት ሁኔታዎች ን ስን መረምር የሚደር...</td>\n      <td>tr_2365_tr24066</td>\n      <td>1</td>\n      <td>8000</td>\n      <td>19.968</td>\n    </tr>\n    <tr>\n      <th>555</th>\n      <td>ለ ምሳሌ ዲዮ ን ደብሊን ን ፓትሪክ ኩላይቨርት ን ን ሮናልድ ዴ ቦዬርን ...</td>\n      <td>tr_85_tr01085</td>\n      <td>1</td>\n      <td>8000</td>\n      <td>20.480</td>\n    </tr>\n    <tr>\n      <th>4255</th>\n      <td>ሁሴን አይዲድ እንደ ገለጹት ኢትዮጵያ ሁኔታዎች ከ ተመቻቹ ላት ሶማሊያ ን...</td>\n      <td>tr_16_tr01016</td>\n      <td>1</td>\n      <td>8000</td>\n      <td>20.736</td>\n    </tr>\n    <tr>\n      <th>4524</th>\n      <td>ባጭሩ ድርጅታችን እየ በ ከተ ስርአታችን ና አመራ ራችን ባህርይ ውን እየ...</td>\n      <td>tr_6163_tr62064</td>\n      <td>1</td>\n      <td>8000</td>\n      <td>22.528</td>\n    </tr>\n    <tr>\n      <th>3130</th>\n      <td>ማጋነን ባይሆን ብኝ ለ ፕሮፌሰሩ የተሰጠ ውን አክብሮት ሳስበው የ አሜሪካ...</td>\n      <td>tr_6166_tr62067</td>\n      <td>1</td>\n      <td>8000</td>\n      <td>22.912</td>\n    </tr>\n  </tbody>\n</table>\n<p>5000 rows × 5 columns</p>\n</div>"
     },
     "execution_count": 17,
     "metadata": {},
     "output_type": "execute_result"
    }
   ],
   "source": [
    "sorted_metadata = meta_data.sort_values(by=\"duration\")\n",
    "labels = sorted_metadata['label'].to_list()\n",
    "sorted_metadata"
   ],
   "metadata": {
    "collapsed": false,
    "pycharm": {
     "name": "#%%\n"
    }
   }
  },
  {
   "cell_type": "code",
   "execution_count": 19,
   "outputs": [],
   "source": [
    "audios = []\n",
    "for label in labels:\n",
    "    audios.append(audio_obj[label][0])\n",
    "\n",
    "translations = []\n",
    "for label in labels:\n",
    "    translations.append(translation_obj[label])"
   ],
   "metadata": {
    "collapsed": false,
    "pycharm": {
     "name": "#%%\n"
    }
   }
  },
  {
   "cell_type": "code",
   "execution_count": 20,
   "outputs": [],
   "source": [
    "def build_model(output_dim, custom_model, preprocess_model, mfcc=False, calc=None):\n",
    "\n",
    "    input_audios = Input(name='the_input', shape=(None,))\n",
    "    pre = preprocess_model(input_audios)\n",
    "    pre = tf.squeeze(pre, [3])\n",
    "\n",
    "    y_pred = custom_model(pre)\n",
    "    model = Model(inputs=input_audios, outputs=y_pred, name=\"model_builder\")\n",
    "    model.output_length = calc\n",
    "\n",
    "    return model"
   ],
   "metadata": {
    "collapsed": false,
    "pycharm": {
     "name": "#%%\n"
    }
   }
  },
  {
   "cell_type": "code",
   "execution_count": 22,
   "outputs": [],
   "source": [
    "def predict(model, audio, tokenizer, int_to_char, actual=None):\n",
    "\n",
    "    pred_audios = tf.convert_to_tensor([audio])\n",
    "\n",
    "    y_pred = model.predict(pred_audios)\n",
    "\n",
    "    input_shape = tf.keras.backend.shape(y_pred)\n",
    "    input_length = tf.ones(shape=input_shape[0]) * tf.keras.backend.cast(input_shape[1], 'float32')\n",
    "    prediction = tf.keras.backend.ctc_decode(y_pred, input_length, greedy=False)[0][0]\n",
    "\n",
    "    pred = K.eval(prediction).flatten().tolist()\n",
    "    pred = [i for i in pred if i != -1]\n",
    "\n",
    "    predicted_text = tokenizer.decode_text(pred, int_to_char)\n",
    "\n",
    "    error = None\n",
    "    if actual != None:\n",
    "        error = wer(actual, predicted_text)\n",
    "\n",
    "    return predicted_text, error"
   ],
   "metadata": {
    "collapsed": false,
    "pycharm": {
     "name": "#%%\n"
    }
   }
  },
  {
   "cell_type": "code",
   "execution_count": 23,
   "outputs": [
    {
     "name": "stdout",
     "output_type": "stream",
     "text": [
      "sample snt: እኔ ጥሩ ኢትዮጵያዊ ነኝ\n",
      "encoded snt: [13, 106, 1, 44, 52, 1, 35, 3, 38, 43, 6, 63, 1, 20, 99]\n",
      "decoed snt: እኔ ጥሩ ኢትዮጵያዊ ነኝ\n"
     ]
    }
   ],
   "source": [
    "tokenizer = Tokenizer(translations)\n",
    "int_to_char, char_to_int = tokenizer.build_dict()\n",
    "sample = translations[0]\n",
    "encoded = tokenizer.encode(sample, char_to_int)\n",
    "decoded = tokenizer.decode_text(encoded, int_to_char)\n",
    "\n",
    "print(f\"sample snt: {sample}\")\n",
    "print(f\"encoded snt: {encoded}\")\n",
    "print(f\"decoed snt: {decoded}\")"
   ],
   "metadata": {
    "collapsed": false,
    "pycharm": {
     "name": "#%%\n"
    }
   }
  },
  {
   "cell_type": "code",
   "execution_count": 24,
   "outputs": [],
   "source": [
    "helper.write_obj(\"../int_to_char.pkl\", int_to_char)\n",
    "helper.write_obj(\"../char_to_int.pkl\", char_to_int)"
   ],
   "metadata": {
    "collapsed": false,
    "pycharm": {
     "name": "#%%\n"
    }
   }
  },
  {
   "cell_type": "code",
   "execution_count": 25,
   "outputs": [],
   "source": [
    "sample_rate = 8000\n",
    "fft_size = 512\n",
    "frame_step = 256\n",
    "n_mels = 128\n",
    "batch_size = 100\n",
    "epochs = 20\n",
    "data_len = len(translations)\n",
    "output_dim = len(char_to_int) + 2"
   ],
   "metadata": {
    "collapsed": false,
    "pycharm": {
     "name": "#%%\n"
    }
   }
  },
  {
   "cell_type": "code",
   "execution_count": 28,
   "outputs": [
    {
     "name": "stderr",
     "output_type": "stream",
     "text": [
      "2022-06-08 22:55:16.957528: I tensorflow/core/platform/cpu_feature_guard.cc:151] This TensorFlow binary is optimized with oneAPI Deep Neural Network Library (oneDNN) to use the following CPU instructions in performance-critical operations:  AVX2 FMA\n",
      "To enable them in other operations, rebuild TensorFlow with the appropriate compiler flags.\n"
     ]
    },
    {
     "name": "stdout",
     "output_type": "stream",
     "text": [
      "Model: \"preprocessin_model\"\n",
      "_________________________________________________________________\n",
      " Layer (type)                Output Shape              Param #   \n",
      "=================================================================\n",
      " input (InputLayer)          [(None, None)]            0         \n",
      "                                                                 \n",
      " log_mel_spectrogram (LogMel  (None, None, 128, 1)     0         \n",
      " Spectrogram)                                                    \n",
      "                                                                 \n",
      " batch_normalization (BatchN  (None, None, 128, 1)     512       \n",
      " ormalization)                                                   \n",
      "                                                                 \n",
      "=================================================================\n",
      "Total params: 512\n",
      "Trainable params: 256\n",
      "Non-trainable params: 256\n",
      "_________________________________________________________________\n"
     ]
    }
   ],
   "source": [
    "dg = DataGenerator(translations, audios, batch_size, shuffle=True)\n",
    "preprocess_model = preprocessin_model(sample_rate, fft_size, frame_step, n_mels)\n",
    "preprocess_model.summary()"
   ],
   "metadata": {
    "collapsed": false,
    "pycharm": {
     "name": "#%%\n"
    }
   }
  },
  {
   "cell_type": "code",
   "execution_count": null,
   "outputs": [],
   "source": [],
   "metadata": {
    "collapsed": false,
    "pycharm": {
     "name": "#%%\n"
    }
   }
  }
 ],
 "metadata": {
  "kernelspec": {
   "display_name": "Python 3",
   "language": "python",
   "name": "python3"
  },
  "language_info": {
   "codemirror_mode": {
    "name": "ipython",
    "version": 2
   },
   "file_extension": ".py",
   "mimetype": "text/x-python",
   "name": "python",
   "nbconvert_exporter": "python",
   "pygments_lexer": "ipython2",
   "version": "2.7.6"
  }
 },
 "nbformat": 4,
 "nbformat_minor": 0
}